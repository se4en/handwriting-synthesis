{
 "cells": [
  {
   "cell_type": "code",
   "execution_count": 1,
   "id": "pursuant-snowboard",
   "metadata": {},
   "outputs": [],
   "source": [
    "import numpy as np"
   ]
  },
  {
   "cell_type": "code",
   "execution_count": null,
   "id": "interested-nation",
   "metadata": {},
   "outputs": [],
   "source": []
  },
  {
   "cell_type": "code",
   "execution_count": 20,
   "id": "working-worst",
   "metadata": {},
   "outputs": [],
   "source": [
    "style = 1\n",
    "x_p_1 = np.load('styles/style-{}-strokes.npy'.format(style))\n",
    "c_p_1 = np.load('styles/style-{}-chars.npy'.format(style)).tobytes().decode('utf-8')"
   ]
  },
  {
   "cell_type": "code",
   "execution_count": 21,
   "id": "chubby-expansion",
   "metadata": {},
   "outputs": [
    {
     "data": {
      "text/plain": [
       "(461, 3)"
      ]
     },
     "execution_count": 21,
     "metadata": {},
     "output_type": "execute_result"
    }
   ],
   "source": [
    "x_p_1.shape"
   ]
  },
  {
   "cell_type": "code",
   "execution_count": 32,
   "id": "therapeutic-texture",
   "metadata": {},
   "outputs": [
    {
     "data": {
      "text/plain": [
       "array([[ 0.        ,  0.        ,  1.        ],\n",
       "       [-0.011367  ,  0.05825589,  0.        ],\n",
       "       [-0.03552188,  0.12929966,  0.        ],\n",
       "       [-0.06393939,  0.17760941,  0.        ],\n",
       "       [-0.12219528,  0.22165656,  0.        ],\n",
       "       [-0.13640404,  0.2017643 ,  0.        ],\n",
       "       [-0.2585993 ,  0.24296969,  0.        ],\n",
       "       [-0.3239596 ,  0.26854545,  0.        ],\n",
       "       [-0.41205385,  0.30406734,  0.        ],\n",
       "       [-0.467468  ,  0.2955421 ,  0.        ],\n",
       "       [-0.5910842 ,  0.29696295,  0.        ],\n",
       "       [-0.74453866,  0.22307743,  0.        ],\n",
       "       [-0.90225583,  0.09946127,  0.        ],\n",
       "       [-1.014505  , -0.03694276,  0.        ],\n",
       "       [-1.0514477 , -0.20460606,  0.        ],\n",
       "       [-1.0457643 , -0.32111782,  0.        ],\n",
       "       [-0.93351513, -0.4049495 ,  0.        ],\n",
       "       [-0.844     , -0.4376296 ,  0.        ],\n",
       "       [-0.637973  , -0.5171986 ,  0.        ],\n",
       "       [-0.48593938, -0.55556226,  0.        ]], dtype=float32)"
      ]
     },
     "execution_count": 32,
     "metadata": {},
     "output_type": "execute_result"
    }
   ],
   "source": [
    "x_p_1[:20]"
   ]
  },
  {
   "cell_type": "code",
   "execution_count": 36,
   "id": "physical-monitor",
   "metadata": {},
   "outputs": [
    {
     "data": {
      "text/plain": [
       "array([1., 0., 0., 0., 0., 0., 0., 0., 0., 0., 0., 0., 0., 0., 0., 0., 0.,\n",
       "       0., 0., 0., 0., 0., 0., 0., 0., 0., 0., 0., 0., 0., 0., 0., 0., 0.,\n",
       "       0., 0., 0., 0., 0., 0., 0., 0., 0., 0., 0., 0., 0., 0., 0., 0., 0.,\n",
       "       0., 0., 0., 0., 0., 1., 0., 0., 0., 0., 0., 0., 0., 0., 0., 0., 0.,\n",
       "       0., 0., 0., 0., 0., 0., 0., 0., 0., 0., 0., 0., 0., 0., 0., 0., 0.,\n",
       "       1., 0., 0., 0., 0., 0., 0., 0., 0., 0., 0., 0., 0., 0., 0., 0., 0.,\n",
       "       0., 0., 0., 0., 0., 0., 0., 0., 0., 0., 0., 0., 0., 0., 0., 0., 0.,\n",
       "       0., 0., 0., 1., 0., 0., 0., 0., 0., 0., 0., 0., 0., 0., 0., 0., 0.,\n",
       "       0., 0., 0., 0., 0., 0., 0., 0., 0., 0., 0., 0., 0., 0., 0., 0., 0.,\n",
       "       0., 0., 0., 0., 0., 0., 1., 0., 0., 0., 0., 0., 0., 0., 0., 0., 0.,\n",
       "       0., 0., 1., 0., 0., 0., 0., 0., 0., 0., 0., 0., 0., 0., 0., 1., 0.,\n",
       "       0., 0., 0., 0., 0., 0., 0., 0., 0., 0., 0., 0., 0., 0., 0., 0., 0.,\n",
       "       0., 0., 0., 0., 0., 0., 0., 0., 0., 0., 1., 0., 0., 0., 0., 0., 0.,\n",
       "       0., 0., 0., 0., 0., 0., 0., 0., 0., 0., 1., 0., 0., 0., 0., 0., 0.,\n",
       "       0., 0., 1., 0., 0., 0., 0., 0., 0., 0., 0., 0., 0., 0., 0., 0., 0.,\n",
       "       0., 0., 0., 0., 0., 0., 0., 0., 0., 0., 0., 0., 0., 0., 0., 0., 0.,\n",
       "       0., 1., 0., 0., 0., 0., 0., 0., 0., 0., 0., 0., 0., 0., 0., 0., 0.,\n",
       "       0., 0., 0., 0., 0., 0., 0., 0., 0., 1., 0., 0., 0., 0., 0., 0., 0.,\n",
       "       0., 0., 0., 0., 0., 1., 0., 0., 0., 0., 0., 0., 0., 0., 0., 0., 0.,\n",
       "       0., 1., 0., 0., 0., 0., 0., 0., 0., 0., 0., 0., 0., 0., 1., 0., 0.,\n",
       "       0., 0., 1., 0., 0., 0., 0., 0., 0., 0., 0., 0., 0., 0., 0., 0., 0.,\n",
       "       0., 0., 0., 0., 0., 0., 0., 0., 0., 0., 0., 0., 0., 0., 0., 0., 0.,\n",
       "       0., 0., 0., 0., 0., 0., 0., 0., 0., 0., 0., 0., 0., 0., 0., 0., 0.,\n",
       "       0., 0., 0., 0., 0., 0., 0., 0., 1., 0., 0., 0., 0., 0., 0., 0., 0.,\n",
       "       0., 0., 0., 0., 0., 0., 0., 0., 0., 0., 0., 0., 0., 0., 0., 0., 0.,\n",
       "       0., 0., 0., 1., 0., 0., 0., 0., 0., 0., 0., 0., 0., 0., 0., 0., 0.,\n",
       "       0., 0., 0., 0., 0., 0., 0., 0., 0., 0., 0., 0., 0., 0., 0., 0., 0.,\n",
       "       0., 0.], dtype=float32)"
      ]
     },
     "execution_count": 36,
     "metadata": {},
     "output_type": "execute_result"
    }
   ],
   "source": [
    "x_p_1[:, 2]"
   ]
  },
  {
   "cell_type": "code",
   "execution_count": 33,
   "id": "bridal-prefix",
   "metadata": {},
   "outputs": [
    {
     "data": {
      "text/plain": [
       "17"
      ]
     },
     "execution_count": 33,
     "metadata": {},
     "output_type": "execute_result"
    }
   ],
   "source": [
    "len(c_p_1)"
   ]
  },
  {
   "cell_type": "code",
   "execution_count": 34,
   "id": "powerful-culture",
   "metadata": {},
   "outputs": [
    {
     "data": {
      "text/plain": [
       "65.85714285714286"
      ]
     },
     "execution_count": 34,
     "metadata": {},
     "output_type": "execute_result"
    }
   ],
   "source": [
    "461/7"
   ]
  },
  {
   "cell_type": "code",
   "execution_count": null,
   "id": "upset-software",
   "metadata": {},
   "outputs": [],
   "source": []
  },
  {
   "cell_type": "code",
   "execution_count": 29,
   "id": "brazilian-museum",
   "metadata": {},
   "outputs": [],
   "source": [
    "style = 7\n",
    "x_p_7 = np.load('styles/style-{}-strokes.npy'.format(style))\n",
    "c_p_7 = np.load('styles/style-{}-chars.npy'.format(style)).tobytes().decode('utf-8')"
   ]
  },
  {
   "cell_type": "code",
   "execution_count": 16,
   "id": "under-public",
   "metadata": {},
   "outputs": [],
   "source": []
  },
  {
   "cell_type": "code",
   "execution_count": 17,
   "id": "adult-neighborhood",
   "metadata": {},
   "outputs": [],
   "source": []
  },
  {
   "cell_type": "code",
   "execution_count": 18,
   "id": "curious-decrease",
   "metadata": {},
   "outputs": [
    {
     "data": {
      "text/plain": [
       "(386, 3)"
      ]
     },
     "execution_count": 18,
     "metadata": {},
     "output_type": "execute_result"
    }
   ],
   "source": [
    "x_p.shape"
   ]
  },
  {
   "cell_type": "code",
   "execution_count": 19,
   "id": "graphic-burst",
   "metadata": {},
   "outputs": [
    {
     "data": {
      "text/plain": [
       "'I do not know of'"
      ]
     },
     "execution_count": 19,
     "metadata": {},
     "output_type": "execute_result"
    }
   ],
   "source": [
    "c_p"
   ]
  },
  {
   "cell_type": "code",
   "execution_count": null,
   "id": "persistent-surrey",
   "metadata": {},
   "outputs": [],
   "source": []
  }
 ],
 "metadata": {
  "kernelspec": {
   "display_name": "Python 3",
   "language": "python",
   "name": "python3"
  },
  "language_info": {
   "codemirror_mode": {
    "name": "ipython",
    "version": 3
   },
   "file_extension": ".py",
   "mimetype": "text/x-python",
   "name": "python",
   "nbconvert_exporter": "python",
   "pygments_lexer": "ipython3",
   "version": "3.8.5"
  }
 },
 "nbformat": 4,
 "nbformat_minor": 5
}
